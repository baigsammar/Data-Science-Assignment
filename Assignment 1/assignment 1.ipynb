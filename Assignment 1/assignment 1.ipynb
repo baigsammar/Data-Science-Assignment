{
 "cells": [
  {
   "cell_type": "code",
   "execution_count": 1,
   "id": "4852f6aa",
   "metadata": {},
   "outputs": [
    {
     "name": "stdout",
     "output_type": "stream",
     "text": [
      "Twinkle, twinkle, little star\n",
      "          How I wonder what you are\n",
      "                 Up above the world so high\n",
      "                 Like a diamond in the sky\n",
      "Twinkle, twinkle, little star\n",
      "         How I wonder what you are\n"
     ]
    }
   ],
   "source": [
    "print (\"Twinkle, twinkle, little star\")\n",
    "print(\"          How I wonder what you are\")\n",
    "print(\"                 Up above the world so high\")\n",
    "print(\"                 Like a diamond in the sky\")\n",
    "print(\"Twinkle, twinkle, little star\")\n",
    "print(\"         How I wonder what you are\")"
   ]
  },
  {
   "cell_type": "code",
   "execution_count": 2,
   "id": "570235aa",
   "metadata": {},
   "outputs": [
    {
     "name": "stdout",
     "output_type": "stream",
     "text": [
      "Python version is  3.9.7 (default, Sep 16 2021, 16:59:28) [MSC v.1916 64 bit (AMD64)]\n"
     ]
    }
   ],
   "source": [
    "import sys\n",
    "print(\"Python version is \", sys.version)"
   ]
  },
  {
   "cell_type": "code",
   "execution_count": 3,
   "id": "0db28697",
   "metadata": {},
   "outputs": [
    {
     "name": "stdout",
     "output_type": "stream",
     "text": [
      "Current datetime is  2022-01-01 17:08:51.684914\n"
     ]
    }
   ],
   "source": [
    "import datetime\n",
    "print(\"Current datetime is \", datetime.datetime.now())"
   ]
  },
  {
   "cell_type": "code",
   "execution_count": 4,
   "id": "fc670631",
   "metadata": {},
   "outputs": [
    {
     "name": "stdout",
     "output_type": "stream",
     "text": [
      "Enter Radius : 5\n",
      "Area of Cirle is  15.700000000000001\n"
     ]
    }
   ],
   "source": [
    "radius=float(input(\"Enter Radius : \"))\n",
    "pi=3.14\n",
    "print(\"Area of Cirle is \", radius*pi )"
   ]
  },
  {
   "cell_type": "code",
   "execution_count": 5,
   "id": "73dfed93",
   "metadata": {},
   "outputs": [
    {
     "name": "stdout",
     "output_type": "stream",
     "text": [
      "Enter your First Name : AMMAR\n",
      "Enter your Last Name : BAIG\n",
      "BAIG   AMMAR\n"
     ]
    }
   ],
   "source": [
    "firstname=input(\"Enter your First Name : \")\n",
    "lastname=input(\"Enter your Last Name : \")\n",
    "print(lastname,\" \",firstname)\n"
   ]
  },
  {
   "cell_type": "code",
   "execution_count": 6,
   "id": "e9bfaa5e",
   "metadata": {},
   "outputs": [
    {
     "name": "stdout",
     "output_type": "stream",
     "text": [
      "Number 1 : 5\n",
      "Number 2 : 15\n",
      "20\n"
     ]
    }
   ],
   "source": [
    "x=int(input(\"Number 1 : \"))\n",
    "y=int(input(\"Number 2 : \"))\n",
    "print(x+y)"
   ]
  },
  {
   "cell_type": "code",
   "execution_count": null,
   "id": "09e6bb87",
   "metadata": {},
   "outputs": [],
   "source": []
  }
 ],
 "metadata": {
  "kernelspec": {
   "display_name": "Python 3 (ipykernel)",
   "language": "python",
   "name": "python3"
  },
  "language_info": {
   "codemirror_mode": {
    "name": "ipython",
    "version": 3
   },
   "file_extension": ".py",
   "mimetype": "text/x-python",
   "name": "python",
   "nbconvert_exporter": "python",
   "pygments_lexer": "ipython3",
   "version": "3.9.7"
  }
 },
 "nbformat": 4,
 "nbformat_minor": 5
}
